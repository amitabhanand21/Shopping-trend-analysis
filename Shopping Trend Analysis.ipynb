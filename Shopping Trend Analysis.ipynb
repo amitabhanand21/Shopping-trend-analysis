{
 "cells": [
  {
   "cell_type": "markdown",
   "id": "474b8f2f",
   "metadata": {},
   "source": [
    "# Imports"
   ]
  },
  {
   "cell_type": "code",
   "execution_count": 1,
   "id": "29465710",
   "metadata": {},
   "outputs": [],
   "source": [
    "import pandas as pd\n",
    "import numpy as np\n",
    "import matplotlib.pyplot as plt\n",
    "import seaborn as sns\n",
    "import warnings\n",
    "warnings.filterwarnings(\"ignore\")\n",
    "from sklearn.preprocessing import StandardScaler\n",
    "import scipy.cluster.hierarchy as shc\n",
    "from sklearn.cluster import KMeans"
   ]
  },
  {
   "cell_type": "markdown",
   "id": "058f3817",
   "metadata": {},
   "source": [
    "# Importing dataset"
   ]
  },
  {
   "cell_type": "code",
   "execution_count": 2,
   "id": "312fa725",
   "metadata": {},
   "outputs": [],
   "source": [
    "df= pd.read_csv('customer_shopping_data.csv')"
   ]
  },
  {
   "cell_type": "markdown",
   "id": "d2a800c6",
   "metadata": {},
   "source": [
    "# Basic information"
   ]
  },
  {
   "cell_type": "code",
   "execution_count": 3,
   "id": "7dc03bf3",
   "metadata": {},
   "outputs": [
    {
     "data": {
      "text/html": [
       "<div>\n",
       "<style scoped>\n",
       "    .dataframe tbody tr th:only-of-type {\n",
       "        vertical-align: middle;\n",
       "    }\n",
       "\n",
       "    .dataframe tbody tr th {\n",
       "        vertical-align: top;\n",
       "    }\n",
       "\n",
       "    .dataframe thead th {\n",
       "        text-align: right;\n",
       "    }\n",
       "</style>\n",
       "<table border=\"1\" class=\"dataframe\">\n",
       "  <thead>\n",
       "    <tr style=\"text-align: right;\">\n",
       "      <th></th>\n",
       "      <th>invoice_no</th>\n",
       "      <th>customer_id</th>\n",
       "      <th>gender</th>\n",
       "      <th>age</th>\n",
       "      <th>category</th>\n",
       "      <th>quantity</th>\n",
       "      <th>price</th>\n",
       "      <th>payment_method</th>\n",
       "      <th>invoice_date</th>\n",
       "      <th>shopping_mall</th>\n",
       "    </tr>\n",
       "  </thead>\n",
       "  <tbody>\n",
       "    <tr>\n",
       "      <th>23931</th>\n",
       "      <td>I194533</td>\n",
       "      <td>C321300</td>\n",
       "      <td>Female</td>\n",
       "      <td>58</td>\n",
       "      <td>Clothing</td>\n",
       "      <td>1</td>\n",
       "      <td>300.08</td>\n",
       "      <td>Credit Card</td>\n",
       "      <td>23/07/2021</td>\n",
       "      <td>Istinye Park</td>\n",
       "    </tr>\n",
       "    <tr>\n",
       "      <th>40347</th>\n",
       "      <td>I191884</td>\n",
       "      <td>C120058</td>\n",
       "      <td>Female</td>\n",
       "      <td>28</td>\n",
       "      <td>Toys</td>\n",
       "      <td>1</td>\n",
       "      <td>35.84</td>\n",
       "      <td>Debit Card</td>\n",
       "      <td>27/09/2021</td>\n",
       "      <td>Kanyon</td>\n",
       "    </tr>\n",
       "    <tr>\n",
       "      <th>4851</th>\n",
       "      <td>I219678</td>\n",
       "      <td>C594535</td>\n",
       "      <td>Male</td>\n",
       "      <td>61</td>\n",
       "      <td>Cosmetics</td>\n",
       "      <td>3</td>\n",
       "      <td>121.98</td>\n",
       "      <td>Debit Card</td>\n",
       "      <td>11/3/2021</td>\n",
       "      <td>Zorlu Center</td>\n",
       "    </tr>\n",
       "    <tr>\n",
       "      <th>38489</th>\n",
       "      <td>I252620</td>\n",
       "      <td>C295002</td>\n",
       "      <td>Male</td>\n",
       "      <td>68</td>\n",
       "      <td>Toys</td>\n",
       "      <td>3</td>\n",
       "      <td>107.52</td>\n",
       "      <td>Cash</td>\n",
       "      <td>7/1/2022</td>\n",
       "      <td>Mall of Istanbul</td>\n",
       "    </tr>\n",
       "    <tr>\n",
       "      <th>68802</th>\n",
       "      <td>I258874</td>\n",
       "      <td>C147028</td>\n",
       "      <td>Female</td>\n",
       "      <td>33</td>\n",
       "      <td>Books</td>\n",
       "      <td>4</td>\n",
       "      <td>60.60</td>\n",
       "      <td>Debit Card</td>\n",
       "      <td>3/8/2021</td>\n",
       "      <td>Cevahir AVM</td>\n",
       "    </tr>\n",
       "  </tbody>\n",
       "</table>\n",
       "</div>"
      ],
      "text/plain": [
       "      invoice_no customer_id  gender  age   category  quantity   price  \\\n",
       "23931    I194533     C321300  Female   58   Clothing         1  300.08   \n",
       "40347    I191884     C120058  Female   28       Toys         1   35.84   \n",
       "4851     I219678     C594535    Male   61  Cosmetics         3  121.98   \n",
       "38489    I252620     C295002    Male   68       Toys         3  107.52   \n",
       "68802    I258874     C147028  Female   33      Books         4   60.60   \n",
       "\n",
       "      payment_method invoice_date     shopping_mall  \n",
       "23931    Credit Card   23/07/2021      Istinye Park  \n",
       "40347     Debit Card   27/09/2021            Kanyon  \n",
       "4851      Debit Card    11/3/2021      Zorlu Center  \n",
       "38489           Cash     7/1/2022  Mall of Istanbul  \n",
       "68802     Debit Card     3/8/2021       Cevahir AVM  "
      ]
     },
     "execution_count": 3,
     "metadata": {},
     "output_type": "execute_result"
    }
   ],
   "source": [
    "df.sample(5)"
   ]
  },
  {
   "cell_type": "code",
   "execution_count": 4,
   "id": "7450ea8f",
   "metadata": {},
   "outputs": [
    {
     "data": {
      "text/plain": [
       "(99457, 10)"
      ]
     },
     "execution_count": 4,
     "metadata": {},
     "output_type": "execute_result"
    }
   ],
   "source": [
    "df.shape"
   ]
  },
  {
   "cell_type": "code",
   "execution_count": 5,
   "id": "fd5c5037",
   "metadata": {},
   "outputs": [
    {
     "data": {
      "text/plain": [
       "['invoice_no',\n",
       " 'customer_id',\n",
       " 'gender',\n",
       " 'age',\n",
       " 'category',\n",
       " 'quantity',\n",
       " 'price',\n",
       " 'payment_method',\n",
       " 'invoice_date',\n",
       " 'shopping_mall']"
      ]
     },
     "execution_count": 5,
     "metadata": {},
     "output_type": "execute_result"
    }
   ],
   "source": [
    "list(df.columns)"
   ]
  },
  {
   "cell_type": "code",
   "execution_count": 6,
   "id": "ba3f0268",
   "metadata": {},
   "outputs": [
    {
     "name": "stdout",
     "output_type": "stream",
     "text": [
      "<class 'pandas.core.frame.DataFrame'>\n",
      "RangeIndex: 99457 entries, 0 to 99456\n",
      "Data columns (total 10 columns):\n",
      " #   Column          Non-Null Count  Dtype  \n",
      "---  ------          --------------  -----  \n",
      " 0   invoice_no      99457 non-null  object \n",
      " 1   customer_id     99457 non-null  object \n",
      " 2   gender          99457 non-null  object \n",
      " 3   age             99457 non-null  int64  \n",
      " 4   category        99457 non-null  object \n",
      " 5   quantity        99457 non-null  int64  \n",
      " 6   price           99457 non-null  float64\n",
      " 7   payment_method  99457 non-null  object \n",
      " 8   invoice_date    99457 non-null  object \n",
      " 9   shopping_mall   99457 non-null  object \n",
      "dtypes: float64(1), int64(2), object(7)\n",
      "memory usage: 7.6+ MB\n"
     ]
    }
   ],
   "source": [
    "df.info()"
   ]
  },
  {
   "cell_type": "code",
   "execution_count": 7,
   "id": "8b3e461e",
   "metadata": {},
   "outputs": [
    {
     "data": {
      "text/plain": [
       "invoice_no        0\n",
       "customer_id       0\n",
       "gender            0\n",
       "age               0\n",
       "category          0\n",
       "quantity          0\n",
       "price             0\n",
       "payment_method    0\n",
       "invoice_date      0\n",
       "shopping_mall     0\n",
       "dtype: int64"
      ]
     },
     "execution_count": 7,
     "metadata": {},
     "output_type": "execute_result"
    }
   ],
   "source": [
    "df.isnull().sum()"
   ]
  },
  {
   "cell_type": "code",
   "execution_count": 8,
   "id": "169cde07",
   "metadata": {},
   "outputs": [
    {
     "data": {
      "text/plain": [
       "0"
      ]
     },
     "execution_count": 8,
     "metadata": {},
     "output_type": "execute_result"
    }
   ],
   "source": [
    "df.duplicated().sum()"
   ]
  },
  {
   "cell_type": "code",
   "execution_count": 9,
   "id": "1f670ce4",
   "metadata": {},
   "outputs": [
    {
     "data": {
      "text/html": [
       "<div>\n",
       "<style scoped>\n",
       "    .dataframe tbody tr th:only-of-type {\n",
       "        vertical-align: middle;\n",
       "    }\n",
       "\n",
       "    .dataframe tbody tr th {\n",
       "        vertical-align: top;\n",
       "    }\n",
       "\n",
       "    .dataframe thead th {\n",
       "        text-align: right;\n",
       "    }\n",
       "</style>\n",
       "<table border=\"1\" class=\"dataframe\">\n",
       "  <thead>\n",
       "    <tr style=\"text-align: right;\">\n",
       "      <th></th>\n",
       "      <th>count</th>\n",
       "      <th>mean</th>\n",
       "      <th>std</th>\n",
       "      <th>min</th>\n",
       "      <th>25%</th>\n",
       "      <th>50%</th>\n",
       "      <th>75%</th>\n",
       "      <th>max</th>\n",
       "    </tr>\n",
       "  </thead>\n",
       "  <tbody>\n",
       "    <tr>\n",
       "      <th>age</th>\n",
       "      <td>99457.0</td>\n",
       "      <td>43.427089</td>\n",
       "      <td>14.990054</td>\n",
       "      <td>18.00</td>\n",
       "      <td>30.00</td>\n",
       "      <td>43.0</td>\n",
       "      <td>56.00</td>\n",
       "      <td>69.0</td>\n",
       "    </tr>\n",
       "    <tr>\n",
       "      <th>quantity</th>\n",
       "      <td>99457.0</td>\n",
       "      <td>3.003429</td>\n",
       "      <td>1.413025</td>\n",
       "      <td>1.00</td>\n",
       "      <td>2.00</td>\n",
       "      <td>3.0</td>\n",
       "      <td>4.00</td>\n",
       "      <td>5.0</td>\n",
       "    </tr>\n",
       "    <tr>\n",
       "      <th>price</th>\n",
       "      <td>99457.0</td>\n",
       "      <td>689.256321</td>\n",
       "      <td>941.184567</td>\n",
       "      <td>5.23</td>\n",
       "      <td>45.45</td>\n",
       "      <td>203.3</td>\n",
       "      <td>1200.32</td>\n",
       "      <td>5250.0</td>\n",
       "    </tr>\n",
       "  </tbody>\n",
       "</table>\n",
       "</div>"
      ],
      "text/plain": [
       "            count        mean         std    min    25%    50%      75%  \\\n",
       "age       99457.0   43.427089   14.990054  18.00  30.00   43.0    56.00   \n",
       "quantity  99457.0    3.003429    1.413025   1.00   2.00    3.0     4.00   \n",
       "price     99457.0  689.256321  941.184567   5.23  45.45  203.3  1200.32   \n",
       "\n",
       "             max  \n",
       "age         69.0  \n",
       "quantity     5.0  \n",
       "price     5250.0  "
      ]
     },
     "execution_count": 9,
     "metadata": {},
     "output_type": "execute_result"
    }
   ],
   "source": [
    "df.describe().T"
   ]
  },
  {
   "cell_type": "code",
   "execution_count": 10,
   "id": "04c0413a",
   "metadata": {},
   "outputs": [
    {
     "data": {
      "text/html": [
       "<div>\n",
       "<style scoped>\n",
       "    .dataframe tbody tr th:only-of-type {\n",
       "        vertical-align: middle;\n",
       "    }\n",
       "\n",
       "    .dataframe tbody tr th {\n",
       "        vertical-align: top;\n",
       "    }\n",
       "\n",
       "    .dataframe thead th {\n",
       "        text-align: right;\n",
       "    }\n",
       "</style>\n",
       "<table border=\"1\" class=\"dataframe\">\n",
       "  <thead>\n",
       "    <tr style=\"text-align: right;\">\n",
       "      <th></th>\n",
       "      <th>skew</th>\n",
       "      <th>kurtosis</th>\n",
       "    </tr>\n",
       "  </thead>\n",
       "  <tbody>\n",
       "    <tr>\n",
       "      <th>age</th>\n",
       "      <td>0.009021</td>\n",
       "      <td>-1.198354</td>\n",
       "    </tr>\n",
       "    <tr>\n",
       "      <th>quantity</th>\n",
       "      <td>-0.001296</td>\n",
       "      <td>-1.295893</td>\n",
       "    </tr>\n",
       "    <tr>\n",
       "      <th>price</th>\n",
       "      <td>2.247433</td>\n",
       "      <td>6.168350</td>\n",
       "    </tr>\n",
       "  </tbody>\n",
       "</table>\n",
       "</div>"
      ],
      "text/plain": [
       "              skew  kurtosis\n",
       "age       0.009021 -1.198354\n",
       "quantity -0.001296 -1.295893\n",
       "price     2.247433  6.168350"
      ]
     },
     "execution_count": 10,
     "metadata": {},
     "output_type": "execute_result"
    }
   ],
   "source": [
    "df[['age', 'quantity', 'price']].agg(['skew', 'kurtosis']).T"
   ]
  },
  {
   "cell_type": "markdown",
   "id": "447ab2c1",
   "metadata": {},
   "source": [
    "### Deductions based on first glance:\n",
    "    1. Dataset is fairly big in size with over 99000 rows and 10 columns.\n",
    "    2. Columns in datset are self-explanatory.\n",
    "    3. We might need to change datatypes of some attributes before implementing ML algorithms.\n",
    "    4. There is no null value in the datset.\n",
    "    5. There is no duplicate entries in the dataset.\n",
    "    6. Age and Price attributes is fairly distributed. Will do further analysis regarding this."
   ]
  },
  {
   "cell_type": "markdown",
   "id": "8e822ad4",
   "metadata": {},
   "source": [
    "# EDA"
   ]
  },
  {
   "cell_type": "markdown",
   "id": "435d5cbc",
   "metadata": {},
   "source": [
    "## Univariate analysis"
   ]
  },
  {
   "cell_type": "code",
   "execution_count": 11,
   "id": "67ccd46c",
   "metadata": {},
   "outputs": [
    {
     "data": {
      "text/plain": [
       "99457"
      ]
     },
     "execution_count": 11,
     "metadata": {},
     "output_type": "execute_result"
    }
   ],
   "source": [
    "df['customer_id'].nunique()"
   ]
  },
  {
   "cell_type": "code",
   "execution_count": 12,
   "id": "7e5393f9",
   "metadata": {},
   "outputs": [
    {
     "data": {
      "text/plain": [
       "Female    59482\n",
       "Male      39975\n",
       "Name: gender, dtype: int64"
      ]
     },
     "execution_count": 12,
     "metadata": {},
     "output_type": "execute_result"
    }
   ],
   "source": [
    "df['gender'].value_counts()"
   ]
  },
  {
   "cell_type": "code",
   "execution_count": 13,
   "id": "83fb107e",
   "metadata": {},
   "outputs": [
    {
     "data": {
      "text/plain": [
       "<AxesSubplot:xlabel='age', ylabel='Count'>"
      ]
     },
     "execution_count": 13,
     "metadata": {},
     "output_type": "execute_result"
    },
    {
     "data": {
      "image/png": "[encoded data removed]",
      "text/plain": [
       "<Figure size 640x480 with 1 Axes>"
      ]
     },
     "metadata": {},
     "output_type": "display_data"
    }
   ],
   "source": [
    "sns.histplot(df['age'])"
   ]
  },
  {
   "cell_type": "code",
   "execution_count": 14,
   "id": "d1fe514e",
   "metadata": {},
   "outputs": [
    {
     "data": {
      "text/plain": [
       "8"
      ]
     },
     "execution_count": 14,
     "metadata": {},
     "output_type": "execute_result"
    }
   ],
   "source": [
    "df['category'].nunique()"
   ]
  },
  {
   "cell_type": "code",
   "execution_count": 15,
   "id": "8e511b3e",
   "metadata": {},
   "outputs": [
    {
     "data": {
      "text/plain": [
       "Clothing           34487\n",
       "Cosmetics          15097\n",
       "Food & Beverage    14776\n",
       "Toys               10087\n",
       "Shoes              10034\n",
       "Souvenir            4999\n",
       "Technology          4996\n",
       "Books               4981\n",
       "Name: category, dtype: int64"
      ]
     },
     "execution_count": 15,
     "metadata": {},
     "output_type": "execute_result"
    }
   ],
   "source": [
    "df['category'].value_counts()"
   ]
  },
  {
   "cell_type": "code",
   "execution_count": 16,
   "id": "556ec2ce",
   "metadata": {},
   "outputs": [
    {
     "data": {
      "text/plain": [
       "3"
      ]
     },
     "execution_count": 16,
     "metadata": {},
     "output_type": "execute_result"
    }
   ],
   "source": [
    "df['payment_method'].nunique()"
   ]
  },
  {
   "cell_type": "code",
   "execution_count": 17,
   "id": "f3347be4",
   "metadata": {},
   "outputs": [
    {
     "data": {
      "text/plain": [
       "Cash           44447\n",
       "Credit Card    34931\n",
       "Debit Card     20079\n",
       "Name: payment_method, dtype: int64"
      ]
     },
     "execution_count": 17,
     "metadata": {},
     "output_type": "execute_result"
    }
   ],
   "source": [
    "df['payment_method'].value_counts()"
   ]
  },
  {
   "cell_type": "code",
   "execution_count": 18,
   "id": "18cb6038",
   "metadata": {},
   "outputs": [
    {
     "data": {
      "text/plain": [
       "Mall of Istanbul     19943\n",
       "Kanyon               19823\n",
       "Metrocity            15011\n",
       "Metropol AVM         10161\n",
       "Istinye Park          9781\n",
       "Zorlu Center          5075\n",
       "Cevahir AVM           4991\n",
       "Forum Istanbul        4947\n",
       "Viaport Outlet        4914\n",
       "Emaar Square Mall     4811\n",
       "Name: shopping_mall, dtype: int64"
      ]
     },
     "execution_count": 18,
     "metadata": {},
     "output_type": "execute_result"
    }
   ],
   "source": [
    "df['shopping_mall'].value_counts()"
   ]
  },
  {
   "cell_type": "code",
   "execution_count": 19,
   "id": "0ed430cc",
   "metadata": {},
   "outputs": [
    {
     "data": {
      "text/plain": [
       "<AxesSubplot:xlabel='price', ylabel='Count'>"
      ]
     },
     "execution_count": 19,
     "metadata": {},
     "output_type": "execute_result"
    },
    {
     "data": {
      "image/png": "[encoded data removed]",
      "text/plain": [
       "<Figure size 640x480 with 1 Axes>"
      ]
     },
     "metadata": {},
     "output_type": "display_data"
    }
   ],
   "source": [
    "sns.histplot(df['price'])"
   ]
  },
  {
   "cell_type": "markdown",
   "id": "af0f3531",
   "metadata": {},
   "source": [
    "#### Let's change invoice date to datetime and examine it."
   ]
  },
  {
   "cell_type": "code",
   "execution_count": 20,
   "id": "1671da62",
   "metadata": {},
   "outputs": [],
   "source": [
    "df['invoice_date']=df['invoice_date'].astype('datetime64[ns]')"
   ]
  },
  {
   "cell_type": "code",
   "execution_count": 52,
   "id": "2746e40f",
   "metadata": {},
   "outputs": [],
   "source": [
    "df['invoice_year']= df['invoice_date'].dt.year\n",
    "df['invoice_month']=df['invoice_date'].dt.month\n",
    "df['invoice_weekday']= df['invoice_date'].dt.weekday\n",
    "dw_mapping={\n",
    "    1: 'Monday', \n",
    "    2: 'Tuesday', \n",
    "    3: 'Wednesday', \n",
    "    4: 'Thursday', \n",
    "    5: 'Friday',\n",
    "    6: 'Saturday', \n",
    "    0: 'Sunday'\n",
    "}\n",
    "df['dayofweek']= df['invoice_date'].dt.weekday.map(dw_mapping)"
   ]
  },
  {
   "cell_type": "code",
   "execution_count": 22,
   "id": "83bc0a2d",
   "metadata": {},
   "outputs": [
    {
     "data": {
      "text/plain": [
       "2022    45551\n",
       "2021    45382\n",
       "2023     8524\n",
       "Name: invoice_year, dtype: int64"
      ]
     },
     "execution_count": 22,
     "metadata": {},
     "output_type": "execute_result"
    }
   ],
   "source": [
    "df['invoice_year'].value_counts()"
   ]
  },
  {
   "cell_type": "code",
   "execution_count": 23,
   "id": "6b2915b2",
   "metadata": {
    "scrolled": false
   },
   "outputs": [
    {
     "data": {
      "text/plain": [
       "<AxesSubplot:xlabel='invoice_month', ylabel='Count'>"
      ]
     },
     "execution_count": 23,
     "metadata": {},
     "output_type": "execute_result"
    },
    {
     "data": {
      "image/png": "[encoded data removed]",
      "text/plain": [
       "<Figure size 640x480 with 1 Axes>"
      ]
     },
     "metadata": {},
     "output_type": "display_data"
    }
   ],
   "source": [
    "sns.histplot(df['invoice_month'])"
   ]
  },
  {
   "cell_type": "code",
   "execution_count": 55,
   "id": "12071162",
   "metadata": {},
   "outputs": [
    {
     "data": {
      "text/plain": [
       "<AxesSubplot:title={'center':'Days having most transactions'}, xlabel='day', ylabel='Number of transaction'>"
      ]
     },
     "execution_count": 55,
     "metadata": {},
     "output_type": "execute_result"
    },
    {
     "data": {
      "image/png": "[encoded data removed]",
      "text/plain": [
       "<Figure size 640x480 with 1 Axes>"
      ]
     },
     "metadata": {},
     "output_type": "display_data"
    }
   ],
   "source": [
    "df_sorted_weekday = df.sort_values(['invoice_weekday'], ascending=True, axis=0, inplace=False)\n",
    "ax = df_sorted_weekday['dayofweek'].value_counts()\\\n",
    "[df_sorted_weekday['dayofweek'].unique()]\\\n",
    ".plot(kind='line',alpha=0.35)\n",
    "ax.set_title('Days having most transactions')\n",
    "ax.set_ylabel('Number of transaction')\n",
    "ax.set_xlabel('day')\n",
    "ax"
   ]
  },
  {
   "cell_type": "markdown",
   "id": "6685ae5d",
   "metadata": {},
   "source": [
    "### Deductions based on univariate analysis:\n",
    "    1. There are more female customers than male customers. And the difference is significant.\n",
    "    2. Age is almost uniformly distributed with a few spikes here and there.\n",
    "    3. Shopping for clothes is the highest, almost 34% of total shopping is done in clothes segment.\n",
    "    4. Cosmetics, food & beverages, toys and shoes are second, third, fourth and fifth on the list respectively.\n",
    "    5. Books are the least bought item.\n",
    "    6. Cash is the most frequent method of payment, which seems counter-intuitive because the data is not very old.\n",
    "    7. Mall of Istanbul and Kanyon are the most visited malls.\n",
    "    8. Emaar square mall is the least visited mall.\n",
    "    9. High priced items are bought less frequently, which is normal.\n",
    "    10. January has the most number of customers."
   ]
  },
  {
   "cell_type": "markdown",
   "id": "82c35f5d",
   "metadata": {},
   "source": [
    "## Bivariate analysis"
   ]
  },
  {
   "cell_type": "code",
   "execution_count": 24,
   "id": "5b82160f",
   "metadata": {},
   "outputs": [
    {
     "data": {
      "text/plain": [
       "gender\n",
       "Female    43.453515\n",
       "Male      43.387767\n",
       "Name: age, dtype: float64"
      ]
     },
     "execution_count": 24,
     "metadata": {},
     "output_type": "execute_result"
    }
   ],
   "source": [
    "df.groupby('gender')['age'].mean()"
   ]
  },
  {
   "cell_type": "code",
   "execution_count": 25,
   "id": "e421e3c0",
   "metadata": {},
   "outputs": [
    {
     "data": {
      "text/plain": [
       "gender\n",
       "Female    688.137615\n",
       "Male      690.920933\n",
       "Name: price, dtype: float64"
      ]
     },
     "execution_count": 25,
     "metadata": {},
     "output_type": "execute_result"
    }
   ],
   "source": [
    "df.groupby('gender')['price'].mean()"
   ]
  },
  {
   "cell_type": "code",
   "execution_count": 26,
   "id": "c50adea8",
   "metadata": {},
   "outputs": [
    {
     "data": {
      "text/plain": [
       "category         gender\n",
       "Books            Female     2906\n",
       "                 Male       2075\n",
       "Clothing         Female    20652\n",
       "                 Male      13835\n",
       "Cosmetics        Female     9070\n",
       "                 Male       6027\n",
       "Food & Beverage  Female     8804\n",
       "                 Male       5972\n",
       "Shoes            Female     5967\n",
       "                 Male       4067\n",
       "Souvenir         Female     3017\n",
       "                 Male       1982\n",
       "Technology       Female     2981\n",
       "                 Male       2015\n",
       "Toys             Female     6085\n",
       "                 Male       4002\n",
       "Name: gender, dtype: int64"
      ]
     },
     "execution_count": 26,
     "metadata": {},
     "output_type": "execute_result"
    }
   ],
   "source": [
    "df.groupby('category')['gender'].value_counts()"
   ]
  },
  {
   "cell_type": "code",
   "execution_count": 27,
   "id": "2542992d",
   "metadata": {
    "scrolled": true
   },
   "outputs": [
    {
     "data": {
      "text/plain": [
       "category\n",
       "Books              43.541859\n",
       "Clothing           43.409227\n",
       "Cosmetics          43.580645\n",
       "Food & Beverage    43.354426\n",
       "Shoes              43.454953\n",
       "Souvenir           43.393079\n",
       "Technology         43.368495\n",
       "Toys               43.326262\n",
       "Name: age, dtype: float64"
      ]
     },
     "execution_count": 27,
     "metadata": {},
     "output_type": "execute_result"
    }
   ],
   "source": [
    "df.groupby('category')['age'].mean()"
   ]
  },
  {
   "cell_type": "code",
   "execution_count": 28,
   "id": "04b6d117",
   "metadata": {},
   "outputs": [
    {
     "data": {
      "text/plain": [
       "category\n",
       "Books                45.568621\n",
       "Clothing            901.084021\n",
       "Cosmetics           122.448626\n",
       "Food & Beverage      15.671948\n",
       "Shoes              1807.388568\n",
       "Souvenir             34.894345\n",
       "Technology         3156.935548\n",
       "Toys                107.733185\n",
       "Name: price, dtype: float64"
      ]
     },
     "execution_count": 28,
     "metadata": {},
     "output_type": "execute_result"
    }
   ],
   "source": [
    "df.groupby('category')['price'].mean()"
   ]
  },
  {
   "cell_type": "code",
   "execution_count": 29,
   "id": "96c67d4e",
   "metadata": {},
   "outputs": [
    {
     "data": {
      "text/plain": [
       "category\n",
       "Books                226977.30\n",
       "Clothing           31075684.64\n",
       "Cosmetics           1848606.90\n",
       "Food & Beverage      231568.71\n",
       "Shoes              18135336.89\n",
       "Souvenir             174436.83\n",
       "Technology         15772050.00\n",
       "Toys                1086704.64\n",
       "Name: price, dtype: float64"
      ]
     },
     "execution_count": 29,
     "metadata": {},
     "output_type": "execute_result"
    }
   ],
   "source": [
    "df.groupby('category')['price'].sum()"
   ]
  },
  {
   "cell_type": "code",
   "execution_count": 30,
   "id": "e06244b6",
   "metadata": {},
   "outputs": [
    {
     "data": {
      "text/plain": [
       "payment_method  gender\n",
       "Cash            Female    26509\n",
       "                Male      17938\n",
       "Credit Card     Female    21011\n",
       "                Male      13920\n",
       "Debit Card      Female    11962\n",
       "                Male       8117\n",
       "Name: gender, dtype: int64"
      ]
     },
     "execution_count": 30,
     "metadata": {},
     "output_type": "execute_result"
    }
   ],
   "source": [
    "df.groupby('payment_method')['gender'].value_counts()"
   ]
  },
  {
   "cell_type": "code",
   "execution_count": 31,
   "id": "399aaaf8",
   "metadata": {},
   "outputs": [
    {
     "data": {
      "text/plain": [
       "shopping_mall      gender\n",
       "Cevahir AVM        Female     2940\n",
       "                   Male       2051\n",
       "Emaar Square Mall  Female     2842\n",
       "                   Male       1969\n",
       "Forum Istanbul     Female     3016\n",
       "                   Male       1931\n",
       "Istinye Park       Female     5874\n",
       "                   Male       3907\n",
       "Kanyon             Female    11906\n",
       "                   Male       7917\n",
       "Mall of Istanbul   Female    11902\n",
       "                   Male       8041\n",
       "Metrocity          Female     8941\n",
       "                   Male       6070\n",
       "Metropol AVM       Female     6144\n",
       "                   Male       4017\n",
       "Viaport Outlet     Female     2949\n",
       "                   Male       1965\n",
       "Zorlu Center       Female     2968\n",
       "                   Male       2107\n",
       "Name: gender, dtype: int64"
      ]
     },
     "execution_count": 31,
     "metadata": {},
     "output_type": "execute_result"
    }
   ],
   "source": [
    "df.groupby('shopping_mall')['gender'].value_counts()"
   ]
  },
  {
   "cell_type": "code",
   "execution_count": 32,
   "id": "d5fa5f9a",
   "metadata": {},
   "outputs": [
    {
     "data": {
      "text/plain": [
       "shopping_mall\n",
       "Cevahir AVM          43.172511\n",
       "Emaar Square Mall    43.561630\n",
       "Forum Istanbul       43.537497\n",
       "Istinye Park         43.383601\n",
       "Kanyon               43.498966\n",
       "Mall of Istanbul     43.440455\n",
       "Metrocity            43.499301\n",
       "Metropol AVM         43.212873\n",
       "Viaport Outlet       43.298942\n",
       "Zorlu Center         43.532217\n",
       "Name: age, dtype: float64"
      ]
     },
     "execution_count": 32,
     "metadata": {},
     "output_type": "execute_result"
    }
   ],
   "source": [
    "df.groupby('shopping_mall')['age'].mean()"
   ]
  },
  {
   "cell_type": "code",
   "execution_count": 33,
   "id": "efb3f04f",
   "metadata": {},
   "outputs": [
    {
     "data": {
      "text/plain": [
       "shopping_mall\n",
       "Cevahir AVM          687.972719\n",
       "Emaar Square Mall    704.720081\n",
       "Forum Istanbul       674.363012\n",
       "Istinye Park         686.747525\n",
       "Kanyon               691.658944\n",
       "Mall of Istanbul     694.566395\n",
       "Metrocity            682.831262\n",
       "Metropol AVM         682.806120\n",
       "Viaport Outlet       694.753655\n",
       "Zorlu Center         691.556457\n",
       "Name: price, dtype: float64"
      ]
     },
     "execution_count": 33,
     "metadata": {},
     "output_type": "execute_result"
    }
   ],
   "source": [
    "df.groupby('shopping_mall')['price'].mean()"
   ]
  },
  {
   "cell_type": "code",
   "execution_count": 34,
   "id": "1915fd1a",
   "metadata": {},
   "outputs": [
    {
     "data": {
      "text/plain": [
       "invoice_year\n",
       "2021    31316304.63\n",
       "2022    31372826.18\n",
       "2023     5862235.10\n",
       "Name: price, dtype: float64"
      ]
     },
     "execution_count": 34,
     "metadata": {},
     "output_type": "execute_result"
    }
   ],
   "source": [
    "df.groupby('invoice_year')['price'].sum()"
   ]
  },
  {
   "cell_type": "code",
   "execution_count": 35,
   "id": "4db94a9c",
   "metadata": {},
   "outputs": [
    {
     "data": {
      "text/plain": [
       "invoice_month\n",
       "1     7074408.23\n",
       "2     6529899.50\n",
       "3     5689336.60\n",
       "4     5514264.38\n",
       "5     5615779.68\n",
       "6     5504522.30\n",
       "7     5673187.14\n",
       "8     5413449.27\n",
       "9     5268690.41\n",
       "10    5674237.18\n",
       "11    5120403.96\n",
       "12    5473187.26\n",
       "Name: price, dtype: float64"
      ]
     },
     "execution_count": 35,
     "metadata": {},
     "output_type": "execute_result"
    }
   ],
   "source": [
    "df.groupby(by=['invoice_month'])['price'].sum()"
   ]
  },
  {
   "cell_type": "markdown",
   "id": "d58b6603",
   "metadata": {},
   "source": [
    "### Deductions based on bivariate analysis:\n",
    "    1. Average age for male and female customers is same.\n",
    "    2. Average money spent has no significant difference based on gender of the customer.\n",
    "    3. Technology is the segment where average cost is the highest.\n",
    "    4. Average cost of shoes are more than the average cost of clothes.\n",
    "    5. Clothes, shoes and technology generates a major chunck of the revenue.\n",
    "    6. Average cost of items at Emaar Square Mall is higher than other malls. This can be the reason of it being the least          visited mall.\n",
    "    7. Sale has risen in 2022 as compared to 2021.\n",
    "    8. Sale is January is the highest."
   ]
  },
  {
   "cell_type": "markdown",
   "id": "a639cf97",
   "metadata": {},
   "source": [
    "# RFM Analysis"
   ]
  },
  {
   "cell_type": "markdown",
   "id": "4b2cf1d4",
   "metadata": {},
   "source": [
    "## Recency"
   ]
  },
  {
   "cell_type": "code",
   "execution_count": 36,
   "id": "2feca6d6",
   "metadata": {},
   "outputs": [],
   "source": [
    "today='01/01/2024'\n",
    "today=pd.to_datetime(today)"
   ]
  },
  {
   "cell_type": "code",
   "execution_count": 37,
   "id": "d4e219c4",
   "metadata": {},
   "outputs": [
    {
     "data": {
      "text/html": [
       "<div>\n",
       "<style scoped>\n",
       "    .dataframe tbody tr th:only-of-type {\n",
       "        vertical-align: middle;\n",
       "    }\n",
       "\n",
       "    .dataframe tbody tr th {\n",
       "        vertical-align: top;\n",
       "    }\n",
       "\n",
       "    .dataframe thead th {\n",
       "        text-align: right;\n",
       "    }\n",
       "</style>\n",
       "<table border=\"1\" class=\"dataframe\">\n",
       "  <thead>\n",
       "    <tr style=\"text-align: right;\">\n",
       "      <th></th>\n",
       "      <th>Recency</th>\n",
       "    </tr>\n",
       "    <tr>\n",
       "      <th>customer_id</th>\n",
       "      <th></th>\n",
       "    </tr>\n",
       "  </thead>\n",
       "  <tbody>\n",
       "    <tr>\n",
       "      <th>C149139</th>\n",
       "      <td>471</td>\n",
       "    </tr>\n",
       "    <tr>\n",
       "      <th>C270478</th>\n",
       "      <td>1019</td>\n",
       "    </tr>\n",
       "    <tr>\n",
       "      <th>C321995</th>\n",
       "      <td>563</td>\n",
       "    </tr>\n",
       "    <tr>\n",
       "      <th>C142858</th>\n",
       "      <td>418</td>\n",
       "    </tr>\n",
       "    <tr>\n",
       "      <th>C300927</th>\n",
       "      <td>877</td>\n",
       "    </tr>\n",
       "  </tbody>\n",
       "</table>\n",
       "</div>"
      ],
      "text/plain": [
       "             Recency\n",
       "customer_id         \n",
       "C149139          471\n",
       "C270478         1019\n",
       "C321995          563\n",
       "C142858          418\n",
       "C300927          877"
      ]
     },
     "execution_count": 37,
     "metadata": {},
     "output_type": "execute_result"
    }
   ],
   "source": [
    "df_r=df.groupby(by='customer_id').agg({'invoice_date': lambda x: (today-x.max()).days})\n",
    "df_r.columns=['Recency']\n",
    "df_r.sample(5)"
   ]
  },
  {
   "cell_type": "markdown",
   "id": "dda68993",
   "metadata": {},
   "source": [
    "## Frequency"
   ]
  },
  {
   "cell_type": "code",
   "execution_count": 38,
   "id": "468703d6",
   "metadata": {},
   "outputs": [
    {
     "data": {
      "text/html": [
       "<div>\n",
       "<style scoped>\n",
       "    .dataframe tbody tr th:only-of-type {\n",
       "        vertical-align: middle;\n",
       "    }\n",
       "\n",
       "    .dataframe tbody tr th {\n",
       "        vertical-align: top;\n",
       "    }\n",
       "\n",
       "    .dataframe thead th {\n",
       "        text-align: right;\n",
       "    }\n",
       "</style>\n",
       "<table border=\"1\" class=\"dataframe\">\n",
       "  <thead>\n",
       "    <tr style=\"text-align: right;\">\n",
       "      <th></th>\n",
       "      <th>Frequency</th>\n",
       "    </tr>\n",
       "    <tr>\n",
       "      <th>customer_id</th>\n",
       "      <th></th>\n",
       "    </tr>\n",
       "  </thead>\n",
       "  <tbody>\n",
       "    <tr>\n",
       "      <th>C148202</th>\n",
       "      <td>1</td>\n",
       "    </tr>\n",
       "    <tr>\n",
       "      <th>C158844</th>\n",
       "      <td>1</td>\n",
       "    </tr>\n",
       "    <tr>\n",
       "      <th>C536056</th>\n",
       "      <td>1</td>\n",
       "    </tr>\n",
       "    <tr>\n",
       "      <th>C285910</th>\n",
       "      <td>1</td>\n",
       "    </tr>\n",
       "    <tr>\n",
       "      <th>C468195</th>\n",
       "      <td>1</td>\n",
       "    </tr>\n",
       "  </tbody>\n",
       "</table>\n",
       "</div>"
      ],
      "text/plain": [
       "             Frequency\n",
       "customer_id           \n",
       "C148202              1\n",
       "C158844              1\n",
       "C536056              1\n",
       "C285910              1\n",
       "C468195              1"
      ]
     },
     "execution_count": 38,
     "metadata": {},
     "output_type": "execute_result"
    }
   ],
   "source": [
    "df_f=df.drop_duplicates('invoice_no').groupby(by=['customer_id'])[['invoice_no']].count()\n",
    "df_f.columns=['Frequency']\n",
    "df_f.sample(5)"
   ]
  },
  {
   "cell_type": "markdown",
   "id": "47c6b5d0",
   "metadata": {},
   "source": [
    "## Monetary"
   ]
  },
  {
   "cell_type": "code",
   "execution_count": 39,
   "id": "d5223b8f",
   "metadata": {},
   "outputs": [
    {
     "data": {
      "text/html": [
       "<div>\n",
       "<style scoped>\n",
       "    .dataframe tbody tr th:only-of-type {\n",
       "        vertical-align: middle;\n",
       "    }\n",
       "\n",
       "    .dataframe tbody tr th {\n",
       "        vertical-align: top;\n",
       "    }\n",
       "\n",
       "    .dataframe thead th {\n",
       "        text-align: right;\n",
       "    }\n",
       "</style>\n",
       "<table border=\"1\" class=\"dataframe\">\n",
       "  <thead>\n",
       "    <tr style=\"text-align: right;\">\n",
       "      <th></th>\n",
       "      <th>Monetary</th>\n",
       "    </tr>\n",
       "    <tr>\n",
       "      <th>customer_id</th>\n",
       "      <th></th>\n",
       "    </tr>\n",
       "  </thead>\n",
       "  <tbody>\n",
       "    <tr>\n",
       "      <th>C228396</th>\n",
       "      <td>40.66</td>\n",
       "    </tr>\n",
       "    <tr>\n",
       "      <th>C648964</th>\n",
       "      <td>1200.32</td>\n",
       "    </tr>\n",
       "    <tr>\n",
       "      <th>C121560</th>\n",
       "      <td>47.07</td>\n",
       "    </tr>\n",
       "    <tr>\n",
       "      <th>C204729</th>\n",
       "      <td>1050.00</td>\n",
       "    </tr>\n",
       "    <tr>\n",
       "      <th>C221813</th>\n",
       "      <td>300.08</td>\n",
       "    </tr>\n",
       "  </tbody>\n",
       "</table>\n",
       "</div>"
      ],
      "text/plain": [
       "             Monetary\n",
       "customer_id          \n",
       "C228396         40.66\n",
       "C648964       1200.32\n",
       "C121560         47.07\n",
       "C204729       1050.00\n",
       "C221813        300.08"
      ]
     },
     "execution_count": 39,
     "metadata": {},
     "output_type": "execute_result"
    }
   ],
   "source": [
    "df['Total Price']=df['quantity']*df['price']\n",
    "df_m=df.groupby(by=['customer_id'])[['Total Price']].sum()\n",
    "df_m.columns=['Monetary']\n",
    "df_m.sample(5)"
   ]
  },
  {
   "cell_type": "code",
   "execution_count": 40,
   "id": "3758de6b",
   "metadata": {},
   "outputs": [],
   "source": [
    "df_rfm=pd.concat([df_r,df_f,df_m], axis=1)"
   ]
  },
  {
   "cell_type": "code",
   "execution_count": 41,
   "id": "1ac3c390",
   "metadata": {},
   "outputs": [
    {
     "data": {
      "text/html": [
       "<div>\n",
       "<style scoped>\n",
       "    .dataframe tbody tr th:only-of-type {\n",
       "        vertical-align: middle;\n",
       "    }\n",
       "\n",
       "    .dataframe tbody tr th {\n",
       "        vertical-align: top;\n",
       "    }\n",
       "\n",
       "    .dataframe thead th {\n",
       "        text-align: right;\n",
       "    }\n",
       "</style>\n",
       "<table border=\"1\" class=\"dataframe\">\n",
       "  <thead>\n",
       "    <tr style=\"text-align: right;\">\n",
       "      <th></th>\n",
       "      <th>Recency</th>\n",
       "      <th>Frequency</th>\n",
       "      <th>Monetary</th>\n",
       "    </tr>\n",
       "    <tr>\n",
       "      <th>customer_id</th>\n",
       "      <th></th>\n",
       "      <th></th>\n",
       "      <th></th>\n",
       "    </tr>\n",
       "  </thead>\n",
       "  <tbody>\n",
       "    <tr>\n",
       "      <th>C100004</th>\n",
       "      <td>766</td>\n",
       "      <td>1</td>\n",
       "      <td>7502.00</td>\n",
       "    </tr>\n",
       "    <tr>\n",
       "      <th>C100005</th>\n",
       "      <td>304</td>\n",
       "      <td>1</td>\n",
       "      <td>2400.68</td>\n",
       "    </tr>\n",
       "    <tr>\n",
       "      <th>C100006</th>\n",
       "      <td>719</td>\n",
       "      <td>1</td>\n",
       "      <td>322.56</td>\n",
       "    </tr>\n",
       "    <tr>\n",
       "      <th>C100012</th>\n",
       "      <td>869</td>\n",
       "      <td>1</td>\n",
       "      <td>130.75</td>\n",
       "    </tr>\n",
       "    <tr>\n",
       "      <th>C100019</th>\n",
       "      <td>890</td>\n",
       "      <td>1</td>\n",
       "      <td>35.84</td>\n",
       "    </tr>\n",
       "  </tbody>\n",
       "</table>\n",
       "</div>"
      ],
      "text/plain": [
       "             Recency  Frequency  Monetary\n",
       "customer_id                              \n",
       "C100004          766          1   7502.00\n",
       "C100005          304          1   2400.68\n",
       "C100006          719          1    322.56\n",
       "C100012          869          1    130.75\n",
       "C100019          890          1     35.84"
      ]
     },
     "execution_count": 41,
     "metadata": {},
     "output_type": "execute_result"
    }
   ],
   "source": [
    "df_rfm.head()"
   ]
  },
  {
   "cell_type": "code",
   "execution_count": 42,
   "id": "674b6bb8",
   "metadata": {},
   "outputs": [
    {
     "data": {
      "text/html": [
       "<div>\n",
       "<style scoped>\n",
       "    .dataframe tbody tr th:only-of-type {\n",
       "        vertical-align: middle;\n",
       "    }\n",
       "\n",
       "    .dataframe tbody tr th {\n",
       "        vertical-align: top;\n",
       "    }\n",
       "\n",
       "    .dataframe thead th {\n",
       "        text-align: right;\n",
       "    }\n",
       "</style>\n",
       "<table border=\"1\" class=\"dataframe\">\n",
       "  <thead>\n",
       "    <tr style=\"text-align: right;\">\n",
       "      <th></th>\n",
       "      <th>count</th>\n",
       "      <th>mean</th>\n",
       "      <th>std</th>\n",
       "      <th>min</th>\n",
       "      <th>25%</th>\n",
       "      <th>50%</th>\n",
       "      <th>75%</th>\n",
       "      <th>max</th>\n",
       "    </tr>\n",
       "  </thead>\n",
       "  <tbody>\n",
       "    <tr>\n",
       "      <th>Recency</th>\n",
       "      <td>99457.0</td>\n",
       "      <td>691.020270</td>\n",
       "      <td>239.610727</td>\n",
       "      <td>30.00</td>\n",
       "      <td>497.00</td>\n",
       "      <td>695.00</td>\n",
       "      <td>896.00</td>\n",
       "      <td>1095.0</td>\n",
       "    </tr>\n",
       "    <tr>\n",
       "      <th>Frequency</th>\n",
       "      <td>99457.0</td>\n",
       "      <td>1.000000</td>\n",
       "      <td>0.000000</td>\n",
       "      <td>1.00</td>\n",
       "      <td>1.00</td>\n",
       "      <td>1.00</td>\n",
       "      <td>1.00</td>\n",
       "      <td>1.0</td>\n",
       "    </tr>\n",
       "    <tr>\n",
       "      <th>Monetary</th>\n",
       "      <td>99457.0</td>\n",
       "      <td>2528.789268</td>\n",
       "      <td>4222.475781</td>\n",
       "      <td>5.23</td>\n",
       "      <td>136.35</td>\n",
       "      <td>600.17</td>\n",
       "      <td>2700.72</td>\n",
       "      <td>26250.0</td>\n",
       "    </tr>\n",
       "  </tbody>\n",
       "</table>\n",
       "</div>"
      ],
      "text/plain": [
       "             count         mean          std    min     25%     50%      75%  \\\n",
       "Recency    99457.0   691.020270   239.610727  30.00  497.00  695.00   896.00   \n",
       "Frequency  99457.0     1.000000     0.000000   1.00    1.00    1.00     1.00   \n",
       "Monetary   99457.0  2528.789268  4222.475781   5.23  136.35  600.17  2700.72   \n",
       "\n",
       "               max  \n",
       "Recency     1095.0  \n",
       "Frequency      1.0  \n",
       "Monetary   26250.0  "
      ]
     },
     "execution_count": 42,
     "metadata": {},
     "output_type": "execute_result"
    }
   ],
   "source": [
    "df_rfm.describe().T"
   ]
  },
  {
   "cell_type": "markdown",
   "id": "52d6d653",
   "metadata": {},
   "source": [
    "### Deductions based on RFM analysis:\n",
    "    1. Recency scores appear to be fairly distributed.\n",
    "    2. Frequency score for every invoice_id is one. Which is not a very good sign.\n",
    "    3. Monetory scores are distributed. Standard deviation is huge."
   ]
  },
  {
   "cell_type": "markdown",
   "id": "6188fcbd",
   "metadata": {},
   "source": [
    "# Customer segmentation using K-means clustering based on RFM analysis"
   ]
  },
  {
   "cell_type": "code",
   "execution_count": 43,
   "id": "8ce5ce63",
   "metadata": {},
   "outputs": [],
   "source": [
    "ss=StandardScaler()\n",
    "rfm_scaled=ss.fit_transform(df_rfm)"
   ]
  },
  {
   "cell_type": "code",
   "execution_count": 44,
   "id": "2268720f",
   "metadata": {},
   "outputs": [],
   "source": [
    "rfm_scaled=pd.DataFrame(rfm_scaled)"
   ]
  },
  {
   "cell_type": "code",
   "execution_count": 45,
   "id": "59da09a7",
   "metadata": {},
   "outputs": [],
   "source": [
    "distortions = []\n",
    "K = range(1,10)\n",
    "for k in K:\n",
    "    kmc = KMeans(n_clusters=k)\n",
    "    kmc.fit(rfm_scaled)\n",
    "    distortions.append(kmc.inertia_)"
   ]
  },
  {
   "cell_type": "code",
   "execution_count": 46,
   "id": "b16d58e2",
   "metadata": {},
   "outputs": [
    {
     "data": {
      "image/png": "[encoded data removed]",
      "text/plain": [
       "<Figure size 640x480 with 1 Axes>"
      ]
     },
     "metadata": {},
     "output_type": "display_data"
    }
   ],
   "source": [
    "plt.plot(K, distortions, 'bx-')\n",
    "plt.xlabel('k')\n",
    "plt.ylabel('Distortion')\n",
    "plt.title('The Elbow Method showing the optimal k')\n",
    "plt.show()"
   ]
  },
  {
   "cell_type": "code",
   "execution_count": 47,
   "id": "7fe12a1e",
   "metadata": {},
   "outputs": [
    {
     "data": {
      "text/plain": [
       "KMeans(n_clusters=3)"
      ]
     },
     "execution_count": 47,
     "metadata": {},
     "output_type": "execute_result"
    }
   ],
   "source": [
    "kmc = KMeans(n_clusters=3)\n",
    "kmc.fit(rfm_scaled)"
   ]
  },
  {
   "cell_type": "code",
   "execution_count": 48,
   "id": "e634839b",
   "metadata": {},
   "outputs": [],
   "source": [
    "df_rfm[\"Cluster_No_kmc\"] = (kmc.labels_ + 1)"
   ]
  },
  {
   "cell_type": "code",
   "execution_count": 49,
   "id": "215eeafb",
   "metadata": {},
   "outputs": [
    {
     "data": {
      "text/html": [
       "<div>\n",
       "<style scoped>\n",
       "    .dataframe tbody tr th:only-of-type {\n",
       "        vertical-align: middle;\n",
       "    }\n",
       "\n",
       "    .dataframe tbody tr th {\n",
       "        vertical-align: top;\n",
       "    }\n",
       "\n",
       "    .dataframe thead th {\n",
       "        text-align: right;\n",
       "    }\n",
       "</style>\n",
       "<table border=\"1\" class=\"dataframe\">\n",
       "  <thead>\n",
       "    <tr style=\"text-align: right;\">\n",
       "      <th></th>\n",
       "      <th>Recency</th>\n",
       "      <th>Frequency</th>\n",
       "      <th>Monetary</th>\n",
       "    </tr>\n",
       "    <tr>\n",
       "      <th>Cluster_No_kmc</th>\n",
       "      <th></th>\n",
       "      <th></th>\n",
       "      <th></th>\n",
       "    </tr>\n",
       "  </thead>\n",
       "  <tbody>\n",
       "    <tr>\n",
       "      <th>1</th>\n",
       "      <td>893.970209</td>\n",
       "      <td>1.0</td>\n",
       "      <td>1302.429295</td>\n",
       "    </tr>\n",
       "    <tr>\n",
       "      <th>2</th>\n",
       "      <td>697.200173</td>\n",
       "      <td>1.0</td>\n",
       "      <td>11760.028358</td>\n",
       "    </tr>\n",
       "    <tr>\n",
       "      <th>3</th>\n",
       "      <td>477.502152</td>\n",
       "      <td>1.0</td>\n",
       "      <td>1321.474226</td>\n",
       "    </tr>\n",
       "  </tbody>\n",
       "</table>\n",
       "</div>"
      ],
      "text/plain": [
       "                   Recency  Frequency      Monetary\n",
       "Cluster_No_kmc                                     \n",
       "1               893.970209        1.0   1302.429295\n",
       "2               697.200173        1.0  11760.028358\n",
       "3               477.502152        1.0   1321.474226"
      ]
     },
     "execution_count": 49,
     "metadata": {},
     "output_type": "execute_result"
    }
   ],
   "source": [
    "df_rfm.groupby([\"Cluster_No_kmc\"])[[\"Recency\", \"Frequency\", \"Monetary\"]].mean()"
   ]
  },
  {
   "cell_type": "code",
   "execution_count": 50,
   "id": "9d9eb74b",
   "metadata": {},
   "outputs": [
    {
     "data": {
      "text/html": [
       "<div>\n",
       "<style scoped>\n",
       "    .dataframe tbody tr th:only-of-type {\n",
       "        vertical-align: middle;\n",
       "    }\n",
       "\n",
       "    .dataframe tbody tr th {\n",
       "        vertical-align: top;\n",
       "    }\n",
       "\n",
       "    .dataframe thead th {\n",
       "        text-align: right;\n",
       "    }\n",
       "</style>\n",
       "<table border=\"1\" class=\"dataframe\">\n",
       "  <thead>\n",
       "    <tr style=\"text-align: right;\">\n",
       "      <th></th>\n",
       "      <th>Recency</th>\n",
       "      <th>Frequency</th>\n",
       "      <th>Monetary</th>\n",
       "    </tr>\n",
       "    <tr>\n",
       "      <th>Cluster_No_kmc</th>\n",
       "      <th></th>\n",
       "      <th></th>\n",
       "      <th></th>\n",
       "    </tr>\n",
       "  </thead>\n",
       "  <tbody>\n",
       "    <tr>\n",
       "      <th>1</th>\n",
       "      <td>897.0</td>\n",
       "      <td>1.0</td>\n",
       "      <td>365.94</td>\n",
       "    </tr>\n",
       "    <tr>\n",
       "      <th>2</th>\n",
       "      <td>700.0</td>\n",
       "      <td>1.0</td>\n",
       "      <td>9602.72</td>\n",
       "    </tr>\n",
       "    <tr>\n",
       "      <th>3</th>\n",
       "      <td>486.0</td>\n",
       "      <td>1.0</td>\n",
       "      <td>365.94</td>\n",
       "    </tr>\n",
       "  </tbody>\n",
       "</table>\n",
       "</div>"
      ],
      "text/plain": [
       "                Recency  Frequency  Monetary\n",
       "Cluster_No_kmc                              \n",
       "1                 897.0        1.0    365.94\n",
       "2                 700.0        1.0   9602.72\n",
       "3                 486.0        1.0    365.94"
      ]
     },
     "execution_count": 50,
     "metadata": {},
     "output_type": "execute_result"
    }
   ],
   "source": [
    "df_rfm.groupby([\"Cluster_No_kmc\"])[[\"Recency\", \"Frequency\", \"Monetary\"]].median()"
   ]
  },
  {
   "cell_type": "code",
   "execution_count": 51,
   "id": "f41cbabd",
   "metadata": {},
   "outputs": [
    {
     "data": {
      "image/png": "[encoded data removed]",
      "text/plain": [
       "<Figure size 640x480 with 1 Axes>"
      ]
     },
     "metadata": {},
     "output_type": "display_data"
    }
   ],
   "source": [
    "ax=sns.countplot(df_rfm['Cluster_No_kmc'])\n",
    "for bars in ax.containers:\n",
    "    ax.bar_label(bars)"
   ]
  },
  {
   "cell_type": "markdown",
   "id": "be928fca",
   "metadata": {},
   "source": [
    "### Conclusions:\n",
    "    1. The mean and median of Monetory column of two clusters are very close.\n",
    "    2. Average Recency of all the clusters are easily distinguishable.\n",
    "    3. Count of two clusters are close.\n",
    "    4. Count of one cluster is very less as compared to other clusters, which seems accurate because these are the people          who spend more money."
   ]
  }
 ],
 "metadata": {
  "kernelspec": {
   "display_name": "Python 3 (ipykernel)",
   "language": "python",
   "name": "python3"
  },
  "language_info": {
   "codemirror_mode": {
    "name": "ipython",
    "version": 3
   },
   "file_extension": ".py",
   "mimetype": "text/x-python",
   "name": "python",
   "nbconvert_exporter": "python",
   "pygments_lexer": "ipython3",
   "version": "3.9.13"
  }
 },
 "nbformat": 4,
 "nbformat_minor": 5
}
