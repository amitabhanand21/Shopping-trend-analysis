{
 "cells": [
  {
   "cell_type": "markdown",
   "id": "64a92cb1",
   "metadata": {},
   "source": [
    "# Imports"
   ]
  },
  {
   "cell_type": "code",
   "execution_count": 1,
   "id": "d1566f40",
   "metadata": {},
   "outputs": [],
   "source": [
    "import pandas as pd\n",
    "import numpy as np\n",
    "import warnings\n",
    "warnings.filterwarnings(\"ignore\")\n",
    "from sklearn.preprocessing import StandardScaler, LabelEncoder\n",
    "from sklearn.model_selection import train_test_split\n",
    "from sklearn.linear_model import LinearRegression,Ridge,Lasso\n",
    "from sklearn.neighbors import KNeighborsRegressor\n",
    "from sklearn.tree import DecisionTreeRegressor\n",
    "from sklearn.ensemble import RandomForestRegressor,GradientBoostingRegressor,AdaBoostRegressor,ExtraTreesRegressor\n",
    "from sklearn.svm import SVR\n",
    "from xgboost import XGBRegressor\n",
    "from lightgbm import LGBMRegressor\n",
    "from catboost import CatBoostRegressor\n",
    "from sklearn.metrics import r2_score,mean_absolute_error"
   ]
  },
  {
   "cell_type": "markdown",
   "id": "d3d5d911",
   "metadata": {},
   "source": [
    "# Importing dataset"
   ]
  },
  {
   "cell_type": "code",
   "execution_count": 2,
   "id": "abc7e14b",
   "metadata": {},
   "outputs": [],
   "source": [
    "df= pd.read_csv('customer_shopping_data.csv')"
   ]
  },
  {
   "cell_type": "markdown",
   "id": "10a425c6",
   "metadata": {},
   "source": [
    "# Basic information"
   ]
  },
  {
   "cell_type": "code",
   "execution_count": 3,
   "id": "651a628e",
   "metadata": {},
   "outputs": [
    {
     "data": {
      "text/html": [
       "<div>\n",
       "<style scoped>\n",
       "    .dataframe tbody tr th:only-of-type {\n",
       "        vertical-align: middle;\n",
       "    }\n",
       "\n",
       "    .dataframe tbody tr th {\n",
       "        vertical-align: top;\n",
       "    }\n",
       "\n",
       "    .dataframe thead th {\n",
       "        text-align: right;\n",
       "    }\n",
       "</style>\n",
       "<table border=\"1\" class=\"dataframe\">\n",
       "  <thead>\n",
       "    <tr style=\"text-align: right;\">\n",
       "      <th></th>\n",
       "      <th>invoice_no</th>\n",
       "      <th>customer_id</th>\n",
       "      <th>gender</th>\n",
       "      <th>age</th>\n",
       "      <th>category</th>\n",
       "      <th>quantity</th>\n",
       "      <th>price</th>\n",
       "      <th>payment_method</th>\n",
       "      <th>invoice_date</th>\n",
       "      <th>shopping_mall</th>\n",
       "    </tr>\n",
       "  </thead>\n",
       "  <tbody>\n",
       "    <tr>\n",
       "      <th>49157</th>\n",
       "      <td>I292776</td>\n",
       "      <td>C255528</td>\n",
       "      <td>Female</td>\n",
       "      <td>45</td>\n",
       "      <td>Clothing</td>\n",
       "      <td>1</td>\n",
       "      <td>300.08</td>\n",
       "      <td>Debit Card</td>\n",
       "      <td>28/09/2021</td>\n",
       "      <td>Kanyon</td>\n",
       "    </tr>\n",
       "    <tr>\n",
       "      <th>3855</th>\n",
       "      <td>I259277</td>\n",
       "      <td>C355612</td>\n",
       "      <td>Female</td>\n",
       "      <td>34</td>\n",
       "      <td>Toys</td>\n",
       "      <td>3</td>\n",
       "      <td>107.52</td>\n",
       "      <td>Credit Card</td>\n",
       "      <td>11/8/2021</td>\n",
       "      <td>Metrocity</td>\n",
       "    </tr>\n",
       "    <tr>\n",
       "      <th>23091</th>\n",
       "      <td>I990513</td>\n",
       "      <td>C207707</td>\n",
       "      <td>Male</td>\n",
       "      <td>27</td>\n",
       "      <td>Food &amp; Beverage</td>\n",
       "      <td>3</td>\n",
       "      <td>15.69</td>\n",
       "      <td>Cash</td>\n",
       "      <td>5/1/2021</td>\n",
       "      <td>Kanyon</td>\n",
       "    </tr>\n",
       "    <tr>\n",
       "      <th>24354</th>\n",
       "      <td>I134526</td>\n",
       "      <td>C177194</td>\n",
       "      <td>Male</td>\n",
       "      <td>67</td>\n",
       "      <td>Clothing</td>\n",
       "      <td>1</td>\n",
       "      <td>300.08</td>\n",
       "      <td>Credit Card</td>\n",
       "      <td>16/08/2021</td>\n",
       "      <td>Viaport Outlet</td>\n",
       "    </tr>\n",
       "    <tr>\n",
       "      <th>59440</th>\n",
       "      <td>I418127</td>\n",
       "      <td>C152862</td>\n",
       "      <td>Female</td>\n",
       "      <td>64</td>\n",
       "      <td>Technology</td>\n",
       "      <td>1</td>\n",
       "      <td>1050.00</td>\n",
       "      <td>Cash</td>\n",
       "      <td>18/06/2022</td>\n",
       "      <td>Metrocity</td>\n",
       "    </tr>\n",
       "  </tbody>\n",
       "</table>\n",
       "</div>"
      ],
      "text/plain": [
       "      invoice_no customer_id  gender  age         category  quantity    price  \\\n",
       "49157    I292776     C255528  Female   45         Clothing         1   300.08   \n",
       "3855     I259277     C355612  Female   34             Toys         3   107.52   \n",
       "23091    I990513     C207707    Male   27  Food & Beverage         3    15.69   \n",
       "24354    I134526     C177194    Male   67         Clothing         1   300.08   \n",
       "59440    I418127     C152862  Female   64       Technology         1  1050.00   \n",
       "\n",
       "      payment_method invoice_date   shopping_mall  \n",
       "49157     Debit Card   28/09/2021          Kanyon  \n",
       "3855     Credit Card    11/8/2021       Metrocity  \n",
       "23091           Cash     5/1/2021          Kanyon  \n",
       "24354    Credit Card   16/08/2021  Viaport Outlet  \n",
       "59440           Cash   18/06/2022       Metrocity  "
      ]
     },
     "execution_count": 3,
     "metadata": {},
     "output_type": "execute_result"
    }
   ],
   "source": [
    "df.sample(5)"
   ]
  },
  {
   "cell_type": "code",
   "execution_count": 4,
   "id": "c7cad382",
   "metadata": {},
   "outputs": [
    {
     "data": {
      "text/plain": [
       "Index(['invoice_no', 'customer_id', 'gender', 'age', 'category', 'quantity',\n",
       "       'price', 'payment_method', 'invoice_date', 'shopping_mall'],\n",
       "      dtype='object')"
      ]
     },
     "execution_count": 4,
     "metadata": {},
     "output_type": "execute_result"
    }
   ],
   "source": [
    "df.columns"
   ]
  },
  {
   "cell_type": "code",
   "execution_count": 5,
   "id": "d763067b",
   "metadata": {},
   "outputs": [
    {
     "name": "stdout",
     "output_type": "stream",
     "text": [
      "<class 'pandas.core.frame.DataFrame'>\n",
      "RangeIndex: 99457 entries, 0 to 99456\n",
      "Data columns (total 10 columns):\n",
      " #   Column          Non-Null Count  Dtype  \n",
      "---  ------          --------------  -----  \n",
      " 0   invoice_no      99457 non-null  object \n",
      " 1   customer_id     99457 non-null  object \n",
      " 2   gender          99457 non-null  object \n",
      " 3   age             99457 non-null  int64  \n",
      " 4   category        99457 non-null  object \n",
      " 5   quantity        99457 non-null  int64  \n",
      " 6   price           99457 non-null  float64\n",
      " 7   payment_method  99457 non-null  object \n",
      " 8   invoice_date    99457 non-null  object \n",
      " 9   shopping_mall   99457 non-null  object \n",
      "dtypes: float64(1), int64(2), object(7)\n",
      "memory usage: 7.6+ MB\n"
     ]
    }
   ],
   "source": [
    "df.info()"
   ]
  },
  {
   "cell_type": "code",
   "execution_count": 6,
   "id": "adb6c1ba",
   "metadata": {},
   "outputs": [
    {
     "data": {
      "text/plain": [
       "0"
      ]
     },
     "execution_count": 6,
     "metadata": {},
     "output_type": "execute_result"
    }
   ],
   "source": [
    "df.duplicated().sum()"
   ]
  },
  {
   "cell_type": "code",
   "execution_count": 7,
   "id": "60df74a2",
   "metadata": {},
   "outputs": [
    {
     "data": {
      "text/html": [
       "<div>\n",
       "<style scoped>\n",
       "    .dataframe tbody tr th:only-of-type {\n",
       "        vertical-align: middle;\n",
       "    }\n",
       "\n",
       "    .dataframe tbody tr th {\n",
       "        vertical-align: top;\n",
       "    }\n",
       "\n",
       "    .dataframe thead th {\n",
       "        text-align: right;\n",
       "    }\n",
       "</style>\n",
       "<table border=\"1\" class=\"dataframe\">\n",
       "  <thead>\n",
       "    <tr style=\"text-align: right;\">\n",
       "      <th></th>\n",
       "      <th>count</th>\n",
       "      <th>mean</th>\n",
       "      <th>std</th>\n",
       "      <th>min</th>\n",
       "      <th>25%</th>\n",
       "      <th>50%</th>\n",
       "      <th>75%</th>\n",
       "      <th>max</th>\n",
       "    </tr>\n",
       "  </thead>\n",
       "  <tbody>\n",
       "    <tr>\n",
       "      <th>age</th>\n",
       "      <td>99457.0</td>\n",
       "      <td>43.427089</td>\n",
       "      <td>14.990054</td>\n",
       "      <td>18.00</td>\n",
       "      <td>30.00</td>\n",
       "      <td>43.0</td>\n",
       "      <td>56.00</td>\n",
       "      <td>69.0</td>\n",
       "    </tr>\n",
       "    <tr>\n",
       "      <th>quantity</th>\n",
       "      <td>99457.0</td>\n",
       "      <td>3.003429</td>\n",
       "      <td>1.413025</td>\n",
       "      <td>1.00</td>\n",
       "      <td>2.00</td>\n",
       "      <td>3.0</td>\n",
       "      <td>4.00</td>\n",
       "      <td>5.0</td>\n",
       "    </tr>\n",
       "    <tr>\n",
       "      <th>price</th>\n",
       "      <td>99457.0</td>\n",
       "      <td>689.256321</td>\n",
       "      <td>941.184567</td>\n",
       "      <td>5.23</td>\n",
       "      <td>45.45</td>\n",
       "      <td>203.3</td>\n",
       "      <td>1200.32</td>\n",
       "      <td>5250.0</td>\n",
       "    </tr>\n",
       "  </tbody>\n",
       "</table>\n",
       "</div>"
      ],
      "text/plain": [
       "            count        mean         std    min    25%    50%      75%  \\\n",
       "age       99457.0   43.427089   14.990054  18.00  30.00   43.0    56.00   \n",
       "quantity  99457.0    3.003429    1.413025   1.00   2.00    3.0     4.00   \n",
       "price     99457.0  689.256321  941.184567   5.23  45.45  203.3  1200.32   \n",
       "\n",
       "             max  \n",
       "age         69.0  \n",
       "quantity     5.0  \n",
       "price     5250.0  "
      ]
     },
     "execution_count": 7,
     "metadata": {},
     "output_type": "execute_result"
    }
   ],
   "source": [
    "df.describe().T"
   ]
  },
  {
   "cell_type": "code",
   "execution_count": 8,
   "id": "1298ed8c",
   "metadata": {},
   "outputs": [
    {
     "data": {
      "text/html": [
       "<div>\n",
       "<style scoped>\n",
       "    .dataframe tbody tr th:only-of-type {\n",
       "        vertical-align: middle;\n",
       "    }\n",
       "\n",
       "    .dataframe tbody tr th {\n",
       "        vertical-align: top;\n",
       "    }\n",
       "\n",
       "    .dataframe thead th {\n",
       "        text-align: right;\n",
       "    }\n",
       "</style>\n",
       "<table border=\"1\" class=\"dataframe\">\n",
       "  <thead>\n",
       "    <tr style=\"text-align: right;\">\n",
       "      <th></th>\n",
       "      <th>skew</th>\n",
       "      <th>kurtosis</th>\n",
       "    </tr>\n",
       "  </thead>\n",
       "  <tbody>\n",
       "    <tr>\n",
       "      <th>age</th>\n",
       "      <td>0.009021</td>\n",
       "      <td>-1.198354</td>\n",
       "    </tr>\n",
       "    <tr>\n",
       "      <th>quantity</th>\n",
       "      <td>-0.001296</td>\n",
       "      <td>-1.295893</td>\n",
       "    </tr>\n",
       "    <tr>\n",
       "      <th>price</th>\n",
       "      <td>2.247433</td>\n",
       "      <td>6.168350</td>\n",
       "    </tr>\n",
       "  </tbody>\n",
       "</table>\n",
       "</div>"
      ],
      "text/plain": [
       "              skew  kurtosis\n",
       "age       0.009021 -1.198354\n",
       "quantity -0.001296 -1.295893\n",
       "price     2.247433  6.168350"
      ]
     },
     "execution_count": 8,
     "metadata": {},
     "output_type": "execute_result"
    }
   ],
   "source": [
    "df[['age', 'quantity', 'price']].agg(['skew', 'kurtosis']).T"
   ]
  },
  {
   "cell_type": "markdown",
   "id": "033f9202",
   "metadata": {},
   "source": [
    "# Transformations"
   ]
  },
  {
   "cell_type": "code",
   "execution_count": 9,
   "id": "bc850185",
   "metadata": {},
   "outputs": [],
   "source": [
    "df= pd.get_dummies(data= df, columns= ['gender', 'category', 'payment_method', 'shopping_mall'])"
   ]
  },
  {
   "cell_type": "code",
   "execution_count": 10,
   "id": "824584dc",
   "metadata": {},
   "outputs": [],
   "source": [
    "# df['invoice_date']=df['invoice_date'].astype('datetime64[ns]')"
   ]
  },
  {
   "cell_type": "code",
   "execution_count": 11,
   "id": "07d1f60c",
   "metadata": {},
   "outputs": [],
   "source": [
    "df.drop(['invoice_no', 'customer_id', 'invoice_date'], axis=1, inplace=True)"
   ]
  },
  {
   "cell_type": "code",
   "execution_count": 12,
   "id": "348403b7",
   "metadata": {},
   "outputs": [
    {
     "data": {
      "text/html": [
       "<div>\n",
       "<style scoped>\n",
       "    .dataframe tbody tr th:only-of-type {\n",
       "        vertical-align: middle;\n",
       "    }\n",
       "\n",
       "    .dataframe tbody tr th {\n",
       "        vertical-align: top;\n",
       "    }\n",
       "\n",
       "    .dataframe thead th {\n",
       "        text-align: right;\n",
       "    }\n",
       "</style>\n",
       "<table border=\"1\" class=\"dataframe\">\n",
       "  <thead>\n",
       "    <tr style=\"text-align: right;\">\n",
       "      <th></th>\n",
       "      <th>age</th>\n",
       "      <th>quantity</th>\n",
       "      <th>price</th>\n",
       "      <th>gender_Female</th>\n",
       "      <th>gender_Male</th>\n",
       "      <th>category_Books</th>\n",
       "      <th>category_Clothing</th>\n",
       "      <th>category_Cosmetics</th>\n",
       "      <th>category_Food &amp; Beverage</th>\n",
       "      <th>category_Shoes</th>\n",
       "      <th>...</th>\n",
       "      <th>shopping_mall_Cevahir AVM</th>\n",
       "      <th>shopping_mall_Emaar Square Mall</th>\n",
       "      <th>shopping_mall_Forum Istanbul</th>\n",
       "      <th>shopping_mall_Istinye Park</th>\n",
       "      <th>shopping_mall_Kanyon</th>\n",
       "      <th>shopping_mall_Mall of Istanbul</th>\n",
       "      <th>shopping_mall_Metrocity</th>\n",
       "      <th>shopping_mall_Metropol AVM</th>\n",
       "      <th>shopping_mall_Viaport Outlet</th>\n",
       "      <th>shopping_mall_Zorlu Center</th>\n",
       "    </tr>\n",
       "  </thead>\n",
       "  <tbody>\n",
       "    <tr>\n",
       "      <th>0</th>\n",
       "      <td>28</td>\n",
       "      <td>5</td>\n",
       "      <td>1500.40</td>\n",
       "      <td>1</td>\n",
       "      <td>0</td>\n",
       "      <td>0</td>\n",
       "      <td>1</td>\n",
       "      <td>0</td>\n",
       "      <td>0</td>\n",
       "      <td>0</td>\n",
       "      <td>...</td>\n",
       "      <td>0</td>\n",
       "      <td>0</td>\n",
       "      <td>0</td>\n",
       "      <td>0</td>\n",
       "      <td>1</td>\n",
       "      <td>0</td>\n",
       "      <td>0</td>\n",
       "      <td>0</td>\n",
       "      <td>0</td>\n",
       "      <td>0</td>\n",
       "    </tr>\n",
       "    <tr>\n",
       "      <th>1</th>\n",
       "      <td>21</td>\n",
       "      <td>3</td>\n",
       "      <td>1800.51</td>\n",
       "      <td>0</td>\n",
       "      <td>1</td>\n",
       "      <td>0</td>\n",
       "      <td>0</td>\n",
       "      <td>0</td>\n",
       "      <td>0</td>\n",
       "      <td>1</td>\n",
       "      <td>...</td>\n",
       "      <td>0</td>\n",
       "      <td>0</td>\n",
       "      <td>1</td>\n",
       "      <td>0</td>\n",
       "      <td>0</td>\n",
       "      <td>0</td>\n",
       "      <td>0</td>\n",
       "      <td>0</td>\n",
       "      <td>0</td>\n",
       "      <td>0</td>\n",
       "    </tr>\n",
       "  </tbody>\n",
       "</table>\n",
       "<p>2 rows × 26 columns</p>\n",
       "</div>"
      ],
      "text/plain": [
       "   age  quantity    price  gender_Female  gender_Male  category_Books  \\\n",
       "0   28         5  1500.40              1            0               0   \n",
       "1   21         3  1800.51              0            1               0   \n",
       "\n",
       "   category_Clothing  category_Cosmetics  category_Food & Beverage  \\\n",
       "0                  1                   0                         0   \n",
       "1                  0                   0                         0   \n",
       "\n",
       "   category_Shoes  ...  shopping_mall_Cevahir AVM  \\\n",
       "0               0  ...                          0   \n",
       "1               1  ...                          0   \n",
       "\n",
       "   shopping_mall_Emaar Square Mall  shopping_mall_Forum Istanbul  \\\n",
       "0                                0                             0   \n",
       "1                                0                             1   \n",
       "\n",
       "   shopping_mall_Istinye Park  shopping_mall_Kanyon  \\\n",
       "0                           0                     1   \n",
       "1                           0                     0   \n",
       "\n",
       "   shopping_mall_Mall of Istanbul  shopping_mall_Metrocity  \\\n",
       "0                               0                        0   \n",
       "1                               0                        0   \n",
       "\n",
       "   shopping_mall_Metropol AVM  shopping_mall_Viaport Outlet  \\\n",
       "0                           0                             0   \n",
       "1                           0                             0   \n",
       "\n",
       "   shopping_mall_Zorlu Center  \n",
       "0                           0  \n",
       "1                           0  \n",
       "\n",
       "[2 rows x 26 columns]"
      ]
     },
     "execution_count": 12,
     "metadata": {},
     "output_type": "execute_result"
    }
   ],
   "source": [
    "df.head(2)"
   ]
  },
  {
   "cell_type": "code",
   "execution_count": 13,
   "id": "be6d7c09",
   "metadata": {},
   "outputs": [
    {
     "data": {
      "text/plain": [
       "age                                0.001694\n",
       "quantity                           0.344880\n",
       "price                              1.000000\n",
       "gender_Female                     -0.001450\n",
       "gender_Male                        0.001450\n",
       "category_Books                    -0.157036\n",
       "category_Clothing                  0.163976\n",
       "category_Cosmetics                -0.254765\n",
       "category_Food & Beverage          -0.298954\n",
       "category_Shoes                     0.397954\n",
       "category_Souvenir                 -0.159944\n",
       "category_Technology                0.602977\n",
       "category_Toys                     -0.207577\n",
       "payment_method_Cash                0.001497\n",
       "payment_method_Credit Card        -0.000558\n",
       "payment_method_Debit Card         -0.001190\n",
       "shopping_mall_Cevahir AVM         -0.000313\n",
       "shopping_mall_Emaar Square Mall    0.003704\n",
       "shopping_mall_Forum Istanbul      -0.003620\n",
       "shopping_mall_Istinye Park        -0.000880\n",
       "shopping_mall_Kanyon               0.001274\n",
       "shopping_mall_Mall of Istanbul     0.002826\n",
       "shopping_mall_Metrocity           -0.002878\n",
       "shopping_mall_Metropol AVM        -0.002312\n",
       "shopping_mall_Viaport Outlet       0.001332\n",
       "shopping_mall_Zorlu Center         0.000567\n",
       "Name: price, dtype: float64"
      ]
     },
     "execution_count": 13,
     "metadata": {},
     "output_type": "execute_result"
    }
   ],
   "source": [
    "df.corr()['price']"
   ]
  },
  {
   "cell_type": "markdown",
   "id": "a9de9aa9",
   "metadata": {},
   "source": [
    "# Train_test_split"
   ]
  },
  {
   "cell_type": "code",
   "execution_count": 14,
   "id": "4e59b981",
   "metadata": {},
   "outputs": [],
   "source": [
    "X= df.drop(columns=['price'])\n",
    "y= df['price']"
   ]
  },
  {
   "cell_type": "code",
   "execution_count": 15,
   "id": "550c52c1",
   "metadata": {},
   "outputs": [],
   "source": [
    "X_train, X_test, y_train, y_test= train_test_split(X, y, test_size= 0.3, random_state= 2)"
   ]
  },
  {
   "cell_type": "markdown",
   "id": "7452251e",
   "metadata": {},
   "source": [
    "# Models"
   ]
  },
  {
   "cell_type": "markdown",
   "id": "37898acd",
   "metadata": {},
   "source": [
    "## 1. Linear Regression"
   ]
  },
  {
   "cell_type": "code",
   "execution_count": 16,
   "id": "11d3ccbd",
   "metadata": {},
   "outputs": [],
   "source": [
    "lm=LinearRegression()\n",
    "lm.fit(X_train, y_train)\n",
    "lm_pred=lm.predict(X_test)"
   ]
  },
  {
   "cell_type": "code",
   "execution_count": 17,
   "id": "5c09b1e1",
   "metadata": {},
   "outputs": [
    {
     "name": "stdout",
     "output_type": "stream",
     "text": [
      "R2 score 0.8411827242358375\n",
      "MAE 248.506676869221\n"
     ]
    }
   ],
   "source": [
    "print('R2 score',r2_score(y_test,lm_pred))\n",
    "print('MAE',mean_absolute_error(y_test,lm_pred))"
   ]
  },
  {
   "cell_type": "markdown",
   "id": "c4c21be1",
   "metadata": {},
   "source": [
    "## 2. Ridge Regression"
   ]
  },
  {
   "cell_type": "code",
   "execution_count": 18,
   "id": "bcec2a77",
   "metadata": {},
   "outputs": [],
   "source": [
    "rr=Ridge(alpha=10)\n",
    "rr.fit(X_train, y_train)\n",
    "rr_pred=rr.predict(X_test)"
   ]
  },
  {
   "cell_type": "code",
   "execution_count": 19,
   "id": "03a2d606",
   "metadata": {},
   "outputs": [
    {
     "name": "stdout",
     "output_type": "stream",
     "text": [
      "R2 score 0.8412064919597729\n",
      "MAE 248.4496579030048\n"
     ]
    }
   ],
   "source": [
    "print('R2 score',r2_score(y_test,rr_pred))\n",
    "print('MAE',mean_absolute_error(y_test,rr_pred))"
   ]
  },
  {
   "cell_type": "markdown",
   "id": "735f83e0",
   "metadata": {},
   "source": [
    "## 3. Lasso Regression"
   ]
  },
  {
   "cell_type": "code",
   "execution_count": 20,
   "id": "ed7889c5",
   "metadata": {},
   "outputs": [],
   "source": [
    "lr=Lasso(alpha=0.0001)\n",
    "lr.fit(X_train, y_train)\n",
    "lr_pred=lr.predict(X_test)"
   ]
  },
  {
   "cell_type": "code",
   "execution_count": 21,
   "id": "df0ae22b",
   "metadata": {},
   "outputs": [
    {
     "name": "stdout",
     "output_type": "stream",
     "text": [
      "R2 score 0.8411827398660014\n",
      "MAE 248.50654065885675\n"
     ]
    }
   ],
   "source": [
    "print('R2 score',r2_score(y_test,lr_pred))\n",
    "print('MAE',mean_absolute_error(y_test,lr_pred))"
   ]
  },
  {
   "cell_type": "markdown",
   "id": "2e595a60",
   "metadata": {},
   "source": [
    "## 4. KNN Regressor"
   ]
  },
  {
   "cell_type": "code",
   "execution_count": 22,
   "id": "4b89d110",
   "metadata": {},
   "outputs": [],
   "source": [
    "# knn=KNeighborsRegressor(n_neighbors=10)\n",
    "# knn.fit(X_train, y_train)\n",
    "# knn_pred=knn.predict(X_test)"
   ]
  },
  {
   "cell_type": "code",
   "execution_count": 23,
   "id": "cda90e61",
   "metadata": {},
   "outputs": [],
   "source": [
    "# print('R2 score',r2_score(y_test,knn_pred))\n",
    "# print('MAE',mean_absolute_error(y_test,knn_pred))"
   ]
  },
  {
   "cell_type": "markdown",
   "id": "919bf3de",
   "metadata": {},
   "source": [
    "## 5. Decision Tree Regressor"
   ]
  },
  {
   "cell_type": "code",
   "execution_count": 24,
   "id": "13fd1f11",
   "metadata": {},
   "outputs": [],
   "source": [
    "dtr=DecisionTreeRegressor(max_depth=8)\n",
    "dtr.fit(X_train, y_train)\n",
    "dtr_pred=dtr.predict(X_test)"
   ]
  },
  {
   "cell_type": "code",
   "execution_count": 25,
   "id": "3acdd385",
   "metadata": {},
   "outputs": [
    {
     "name": "stdout",
     "output_type": "stream",
     "text": [
      "R2 score 0.9999573177211839\n",
      "MAE 2.60347393551593\n"
     ]
    }
   ],
   "source": [
    "print('R2 score',r2_score(y_test,dtr_pred))\n",
    "print('MAE',mean_absolute_error(y_test,dtr_pred))"
   ]
  },
  {
   "cell_type": "markdown",
   "id": "a9eb9f32",
   "metadata": {},
   "source": [
    "## 6. Support Vector Regressor"
   ]
  },
  {
   "cell_type": "code",
   "execution_count": 26,
   "id": "f69077f9",
   "metadata": {},
   "outputs": [],
   "source": [
    "# svm=SVR(kernel='rbf',C=10000,epsilon=0.1)\n",
    "# svm.fit(X_train, y_train)\n",
    "# svm_pred=svm.predict(X_test)"
   ]
  },
  {
   "cell_type": "code",
   "execution_count": 27,
   "id": "f9d33b41",
   "metadata": {},
   "outputs": [],
   "source": [
    "# print('R2 score',r2_score(y_test,svm_pred))\n",
    "# print('MAE',mean_absolute_error(y_test,svm_pred))"
   ]
  },
  {
   "cell_type": "markdown",
   "id": "a2315fbc",
   "metadata": {},
   "source": [
    "## 7. Random Forest Regressor"
   ]
  },
  {
   "cell_type": "code",
   "execution_count": 28,
   "id": "59357b8e",
   "metadata": {},
   "outputs": [],
   "source": [
    "rfr=RandomForestRegressor(n_estimators=100,\n",
    "                              random_state=3,\n",
    "                              max_samples=0.5,\n",
    "                              max_features=0.75,\n",
    "                              max_depth=15)\n",
    "rfr.fit(X_train, y_train)\n",
    "rfr_pred=rfr.predict(X_test)"
   ]
  },
  {
   "cell_type": "code",
   "execution_count": 29,
   "id": "cda115c0",
   "metadata": {},
   "outputs": [
    {
     "name": "stdout",
     "output_type": "stream",
     "text": [
      "R2 score 0.9999980975287465\n",
      "MAE 0.1355615207917331\n"
     ]
    }
   ],
   "source": [
    "print('R2 score',r2_score(y_test,rfr_pred))\n",
    "print('MAE',mean_absolute_error(y_test,rfr_pred))"
   ]
  },
  {
   "cell_type": "markdown",
   "id": "569fde60",
   "metadata": {},
   "source": [
    "## 8. Extra Tree Regressor"
   ]
  },
  {
   "cell_type": "code",
   "execution_count": 30,
   "id": "c6de9165",
   "metadata": {},
   "outputs": [],
   "source": [
    "# etr=ExtraTreesRegressor(n_estimators=200,\n",
    "#                               random_state=4,\n",
    "#                               max_features=0.75,\n",
    "#                               max_depth=20,\n",
    "#                               max_samples=None,\n",
    "#                               )\n",
    "# etr.fit(X_train, y_train)\n",
    "# etr_pred=rfr.predict(X_test)"
   ]
  },
  {
   "cell_type": "code",
   "execution_count": 31,
   "id": "381b16b5",
   "metadata": {},
   "outputs": [
    {
     "name": "stdout",
     "output_type": "stream",
     "text": [
      "R2 score 0.9999980975287465\n",
      "MAE 0.1355615207917331\n"
     ]
    }
   ],
   "source": [
    "# print('R2 score',r2_score(y_test,etr_pred))\n",
    "# print('MAE',mean_absolute_error(y_test,etr_pred))"
   ]
  },
  {
   "cell_type": "markdown",
   "id": "78c97f8d",
   "metadata": {},
   "source": [
    "## 9. Gradient Boosting Regressor"
   ]
  },
  {
   "cell_type": "code",
   "execution_count": 32,
   "id": "66a3fc5c",
   "metadata": {},
   "outputs": [],
   "source": [
    "gbr=GradientBoostingRegressor(n_estimators=500)\n",
    "gbr.fit(X_train, y_train)\n",
    "gbr_pred=gbr.predict(X_test)"
   ]
  },
  {
   "cell_type": "code",
   "execution_count": 33,
   "id": "ccdf759d",
   "metadata": {},
   "outputs": [
    {
     "name": "stdout",
     "output_type": "stream",
     "text": [
      "R2 score 0.9999999835253796\n",
      "MAE 0.0938527696563289\n"
     ]
    }
   ],
   "source": [
    "print('R2 score',r2_score(y_test,gbr_pred))\n",
    "print('MAE',mean_absolute_error(y_test,gbr_pred))"
   ]
  },
  {
   "cell_type": "markdown",
   "id": "7d0061dd",
   "metadata": {},
   "source": [
    "## 10. CatBoost Regressor"
   ]
  },
  {
   "cell_type": "code",
   "execution_count": 34,
   "id": "bf8f1fe2",
   "metadata": {},
   "outputs": [],
   "source": [
    "cbr = CatBoostRegressor(verbose=0)\n",
    "cbr.fit(X_train, y_train)\n",
    "cbr_pred = cbr.predict(X_test)"
   ]
  },
  {
   "cell_type": "code",
   "execution_count": 35,
   "id": "c85d8bee",
   "metadata": {},
   "outputs": [
    {
     "name": "stdout",
     "output_type": "stream",
     "text": [
      "R2 score 0.999999999999946\n",
      "MAE 0.00011447290533843364\n"
     ]
    }
   ],
   "source": [
    "print('R2 score',r2_score(y_test,cbr_pred))\n",
    "print('MAE',mean_absolute_error(y_test,cbr_pred))"
   ]
  },
  {
   "cell_type": "markdown",
   "id": "7c895daf",
   "metadata": {},
   "source": [
    "## 11. XGBoost Regressor"
   ]
  },
  {
   "cell_type": "code",
   "execution_count": 36,
   "id": "dbc88328",
   "metadata": {},
   "outputs": [],
   "source": [
    "# xgb=XGBRegressor(n_estimators=100, learning_rate=0.05)\n",
    "# xgb.fit(X_train, y_train)\n",
    "# xgb_pred=xgb.predict(X_test)"
   ]
  },
  {
   "cell_type": "code",
   "execution_count": 37,
   "id": "ed584e15",
   "metadata": {},
   "outputs": [
    {
     "name": "stdout",
     "output_type": "stream",
     "text": [
      "R2 score 0.999944411745229\n",
      "MAE 4.467575770055355\n"
     ]
    }
   ],
   "source": [
    "# print('R2 score',r2_score(y_test,xgb_pred))\n",
    "# print('MAE',mean_absolute_error(y_test,xgb_pred))"
   ]
  },
  {
   "cell_type": "markdown",
   "id": "f78f970d",
   "metadata": {},
   "source": [
    "## 12. LGBM Regressor"
   ]
  },
  {
   "cell_type": "code",
   "execution_count": 38,
   "id": "de97f075",
   "metadata": {},
   "outputs": [],
   "source": [
    "lgbm = LGBMRegressor(n_estimators=1500, max_depth=10)\n",
    "lgbm.fit(X_train, y_train)\n",
    "lgbm_pred = lgbm.predict(X_test)"
   ]
  },
  {
   "cell_type": "code",
   "execution_count": 39,
   "id": "0e4d94bf",
   "metadata": {},
   "outputs": [
    {
     "name": "stdout",
     "output_type": "stream",
     "text": [
      "R2 score 0.9999999999999993\n",
      "MAE 1.4110167356025985e-05\n"
     ]
    }
   ],
   "source": [
    "print('R2 score',r2_score(y_test,lgbm_pred))\n",
    "print('MAE',mean_absolute_error(y_test,lgbm_pred))"
   ]
  }
 ],
 "metadata": {
  "kernelspec": {
   "display_name": "Python 3 (ipykernel)",
   "language": "python",
   "name": "python3"
  },
  "language_info": {
   "codemirror_mode": {
    "name": "ipython",
    "version": 3
   },
   "file_extension": ".py",
   "mimetype": "text/x-python",
   "name": "python",
   "nbconvert_exporter": "python",
   "pygments_lexer": "ipython3",
   "version": "3.9.13"
  }
 },
 "nbformat": 4,
 "nbformat_minor": 5
}
